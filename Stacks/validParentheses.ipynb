{
 "cells": [
  {
   "cell_type": "code",
   "execution_count": 19,
   "metadata": {},
   "outputs": [],
   "source": [
    "def validParentheses(string):\n",
    "    #check for parenthesis\n",
    "    pstack = []\n",
    "    for c in string:\n",
    "        if c  == '(':\n",
    "            pstack.append(')')\n",
    "        elif c == '[':\n",
    "            pstack.append(']')\n",
    "        elif c == '{':\n",
    "            pstack.append('}')\n",
    "        else:\n",
    "            if c  == ')' or c  == ']' or c  == '}':\n",
    "                if c != pstack.pop():\n",
    "                    return False\n",
    "\n",
    "    if len(pstack) != 0:\n",
    "        return False\n",
    "    else:\n",
    "        return True\n"
   ]
  },
  {
   "cell_type": "code",
   "execution_count": 21,
   "metadata": {},
   "outputs": [
    {
     "name": "stdout",
     "output_type": "stream",
     "text": [
      "(\n",
      "d\n",
      "[\n",
      "f\n",
      "{\n",
      "m\n",
      "}\n",
      "h\n",
      "]\n",
      "g\n",
      ")\n",
      "l\n"
     ]
    },
    {
     "data": {
      "text/plain": [
       "True"
      ]
     },
     "execution_count": 21,
     "metadata": {},
     "output_type": "execute_result"
    }
   ],
   "source": [
    "validParentheses('(d[f{m}h]g)l')"
   ]
  },
  {
   "cell_type": "code",
   "execution_count": 22,
   "metadata": {},
   "outputs": [
    {
     "name": "stdout",
     "output_type": "stream",
     "text": [
      "(\n",
      "d\n",
      "[\n",
      "f\n",
      "m\n",
      "}\n"
     ]
    },
    {
     "data": {
      "text/plain": [
       "False"
      ]
     },
     "execution_count": 22,
     "metadata": {},
     "output_type": "execute_result"
    }
   ],
   "source": [
    "validParentheses('(d[fm}h]g)l')"
   ]
  }
 ],
 "metadata": {
  "kernelspec": {
   "display_name": "base",
   "language": "python",
   "name": "python3"
  },
  "language_info": {
   "codemirror_mode": {
    "name": "ipython",
    "version": 3
   },
   "file_extension": ".py",
   "mimetype": "text/x-python",
   "name": "python",
   "nbconvert_exporter": "python",
   "pygments_lexer": "ipython3",
   "version": "3.8.18"
  }
 },
 "nbformat": 4,
 "nbformat_minor": 2
}
